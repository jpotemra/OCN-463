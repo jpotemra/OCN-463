{
 "cells": [
  {
   "cell_type": "code",
   "execution_count": 1,
   "metadata": {},
   "outputs": [],
   "source": [
    "import numpy as np\n",
    "import matplotlib.pyplot as plt\n",
    "from datetime import datetime\n",
    "from mpl_toolkits.basemap import Basemap, addcyclic\n",
    "from scipy.ndimage.filters import minimum_filter, maximum_filter\n",
    "from netCDF4 import Dataset"
   ]
  },
  {
   "cell_type": "code",
   "execution_count": 2,
   "metadata": {},
   "outputs": [],
   "source": [
    "def extrema(mat,mode='wrap',window=10):\n",
    "    \"\"\"find the indices of local extrema (min and max)\n",
    "    in the input array.\"\"\"\n",
    "    mn = minimum_filter(mat, size=window, mode=mode)\n",
    "    mx = maximum_filter(mat, size=window, mode=mode)\n",
    "    # (mat == mx) true if pixel is equal to the local max\n",
    "    # (mat == mn) true if pixel is equal to the local in\n",
    "    # Return the indices of the maxima, minima\n",
    "    return np.nonzero(mat == mn), np.nonzero(mat == mx)"
   ]
  },
  {
   "cell_type": "code",
   "execution_count": 3,
   "metadata": {},
   "outputs": [
    {
     "ename": "OSError",
     "evalue": "[Errno -68] NetCDF: I/O failure: b'http://nomads.ncep.noaa.gov:9090/dods/gfs_hd/gfs_hd20200414/gfs_hd_00z'",
     "output_type": "error",
     "traceback": [
      "\u001b[0;31m---------------------------------------------------------------------------\u001b[0m",
      "\u001b[0;31mOSError\u001b[0m                                   Traceback (most recent call last)",
      "\u001b[0;32m<ipython-input-3-818d671898dd>\u001b[0m in \u001b[0;36m<module>\u001b[0;34m\u001b[0m\n\u001b[1;32m      6\u001b[0m \u001b[0;34m\u001b[0m\u001b[0m\n\u001b[1;32m      7\u001b[0m data=Dataset(\"http://nomads.ncep.noaa.gov:9090/dods/gfs_hd/gfs_hd%s/gfs_hd_%sz\"%\\\n\u001b[0;32m----> 8\u001b[0;31m         (date[0:8],date[8:10]))\n\u001b[0m",
      "\u001b[0;32mnetCDF4/_netCDF4.pyx\u001b[0m in \u001b[0;36mnetCDF4._netCDF4.Dataset.__init__\u001b[0;34m()\u001b[0m\n",
      "\u001b[0;32mnetCDF4/_netCDF4.pyx\u001b[0m in \u001b[0;36mnetCDF4._netCDF4._ensure_nc_success\u001b[0;34m()\u001b[0m\n",
      "\u001b[0;31mOSError\u001b[0m: [Errno -68] NetCDF: I/O failure: b'http://nomads.ncep.noaa.gov:9090/dods/gfs_hd/gfs_hd20200414/gfs_hd_00z'"
     ]
    }
   ],
   "source": [
    "\n",
    "# plot 00 UTC today.\n",
    "date = datetime.now().strftime('%Y%m%d')+'00'\n",
    "\n",
    "# open OpenDAP dataset.\n",
    "url = 'http://nomads.ncep.noaa.gov:80/dods/gfs_0p50/gfs' + forecast_date + '/gfs_0p50_12z'\n",
    "data=Dataset(\"http://nomads.ncep.noaa.gov:9090/dods/gfs_hd/gfs_hd%s/gfs_hd_%sz\"%\\\n",
    "        (date[0:8],date[8:10]))\n"
   ]
  },
  {
   "cell_type": "code",
   "execution_count": null,
   "metadata": {},
   "outputs": [],
   "source": [
    "\n",
    "# read lats,lons.\n",
    "lats = data.variables['lat'][:]\n",
    "lons1 = data.variables['lon'][:]\n",
    "nlats = len(lats)\n",
    "nlons = len(lons1)\n",
    "# read prmsl, convert to hPa (mb).\n",
    "prmsl = 0.01*data.variables['prmslmsl'][0]\n",
    "# the window parameter controls the number of highs and lows detected.\n",
    "# (higher value, fewer highs and lows)\n",
    "local_min, local_max = extrema(prmsl, mode='wrap', window=50)\n",
    "# create Basemap instance.\n",
    "m =\\\n",
    "Basemap(llcrnrlon=0,llcrnrlat=-80,urcrnrlon=360,urcrnrlat=80,projection='mill')\n",
    "# add wrap-around point in longitude.\n",
    "prmsl, lons = addcyclic(prmsl, lons1)\n",
    "# contour levels\n",
    "clevs = np.arange(900,1100.,5.)\n",
    "# find x,y of map projection grid.\n",
    "lons, lats = np.meshgrid(lons, lats)\n",
    "x, y = m(lons, lats)\n",
    "# create figure.\n",
    "fig=plt.figure(figsize=(8,4.5))\n",
    "ax = fig.add_axes([0.05,0.05,0.9,0.85])\n",
    "cs = m.contour(x,y,prmsl,clevs,colors='k',linewidths=1.)\n",
    "m.drawcoastlines(linewidth=1.25)\n",
    "m.fillcontinents(color='0.8')\n",
    "m.drawparallels(np.arange(-80,81,20),labels=[1,1,0,0])\n",
    "m.drawmeridians(np.arange(0,360,60),labels=[0,0,0,1])\n",
    "xlows = x[local_min]; xhighs = x[local_max]\n",
    "ylows = y[local_min]; yhighs = y[local_max]\n",
    "lowvals = prmsl[local_min]; highvals = prmsl[local_max]\n",
    "# plot lows as blue L's, with min pressure value underneath.\n",
    "xyplotted = []\n",
    "# don't plot if there is already a L or H within dmin meters.\n",
    "yoffset = 0.022*(m.ymax-m.ymin)\n",
    "dmin = yoffset\n",
    "for x,y,p in zip(xlows, ylows, lowvals):\n",
    "    if x < m.xmax and x > m.xmin and y < m.ymax and y > m.ymin:\n",
    "        dist = [np.sqrt((x-x0)**2+(y-y0)**2) for x0,y0 in xyplotted]\n",
    "        if not dist or min(dist) > dmin:\n",
    "            plt.text(x,y,'L',fontsize=14,fontweight='bold',\n",
    "                    ha='center',va='center',color='b')\n",
    "            plt.text(x,y-yoffset,repr(int(p)),fontsize=9,\n",
    "                    ha='center',va='top',color='b',\n",
    "                    bbox = dict(boxstyle=\"square\",ec='None',fc=(1,1,1,0.5)))\n",
    "            xyplotted.append((x,y))\n",
    "# plot highs as red H's, with max pressure value underneath.\n",
    "xyplotted = []\n",
    "for x,y,p in zip(xhighs, yhighs, highvals):\n",
    "    if x < m.xmax and x > m.xmin and y < m.ymax and y > m.ymin:\n",
    "        dist = [np.sqrt((x-x0)**2+(y-y0)**2) for x0,y0 in xyplotted]\n",
    "        if not dist or min(dist) > dmin:\n",
    "            plt.text(x,y,'H',fontsize=14,fontweight='bold',\n",
    "                    ha='center',va='center',color='r')\n",
    "            plt.text(x,y-yoffset,repr(int(p)),fontsize=9,\n",
    "                    ha='center',va='top',color='r',\n",
    "                    bbox = dict(boxstyle=\"square\",ec='None',fc=(1,1,1,0.5)))\n",
    "            xyplotted.append((x,y))\n",
    "plt.title('Mean Sea-Level Pressure (with Highs and Lows) %s' % date)"
   ]
  }
 ],
 "metadata": {
  "kernelspec": {
   "display_name": "Python 3",
   "language": "python",
   "name": "python3"
  },
  "language_info": {
   "codemirror_mode": {
    "name": "ipython",
    "version": 3
   },
   "file_extension": ".py",
   "mimetype": "text/x-python",
   "name": "python",
   "nbconvert_exporter": "python",
   "pygments_lexer": "ipython3",
   "version": "3.7.1"
  }
 },
 "nbformat": 4,
 "nbformat_minor": 2
}
