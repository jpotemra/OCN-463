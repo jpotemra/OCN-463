{
 "cells": [
  {
   "cell_type": "markdown",
   "metadata": {},
   "source": [
    "# python (cont.'d)"
   ]
  },
  {
   "cell_type": "raw",
   "metadata": {},
   "source": [
    "## Program flow\n",
    "As with many other programming and scripting languages there are different ways to step or parse through numbers, values and commands.  Here we will discuss four of these: if, while, for and try.  These all serve different purposes but can be used in very similar ways.  The syntax in python is also similar for all, namely, the code block starts with the statement followed by a colon (:).  There is no end statement, just indented code to indicate the block.\n",
    "\n",
    "The first example is an “if” statement.  Note that “if” can also have subsequent “elif” (“elseif”) or “else” statements:"
   ]
  },
  {
   "cell_type": "code",
   "execution_count": 4,
   "metadata": {},
   "outputs": [
    {
     "name": "stdout",
     "output_type": "stream",
     "text": [
      "0\n"
     ]
    }
   ],
   "source": [
    "x = 4\n",
    "y = 0\n",
    "if x > 5:\n",
    "   y = x * x\n",
    "   z = 2 * x\n",
    "   print(z)\n",
    "print(y)\n"
   ]
  },
  {
   "cell_type": "markdown",
   "metadata": {},
   "source": [
    "Note here that parentheses are not used in the qualifier check.  The middle two lines will only be executed if the qualifier is true (they are indented lines below the if statement).  The last line, not indented, will always execute.  “if” statements can also take “and/or”:"
   ]
  },
  {
   "cell_type": "code",
   "execution_count": 5,
   "metadata": {},
   "outputs": [
    {
     "name": "stdout",
     "output_type": "stream",
     "text": [
      "0 0\n"
     ]
    }
   ],
   "source": [
    "if x > 5 and x < 10:\n",
    "   y = x * x\n",
    "   z = 2 * y\n",
    "else:\n",
    "   y = 0\n",
    "   z = 0\n",
    "print(y,z)"
   ]
  },
  {
   "cell_type": "markdown",
   "metadata": {},
   "source": [
    "A similar function is provided using the “while” statement.  In this case, the code will run as long as the statement is true, unlike an “if” statement that will run once."
   ]
  },
  {
   "cell_type": "code",
   "execution_count": 7,
   "metadata": {},
   "outputs": [
    {
     "name": "stdout",
     "output_type": "stream",
     "text": [
      "4\n",
      "5\n",
      "6\n",
      "7\n",
      "8\n",
      "Loop done\n"
     ]
    }
   ],
   "source": [
    "i = 4\n",
    "while i < 9:\n",
    "   print(i)\n",
    "   i = i + 1\n",
    "print(\"Loop done\")"
   ]
  },
  {
   "cell_type": "markdown",
   "metadata": {},
   "source": [
    "The third bit of coding that involves a decision block is a “for loop”.  These exist in almost all languages in some form or another.  In python, the syntax again is with a leading line starting with “for”, ending with a “:”, and subsequent code to be executed indented.  The first line includes both the index/counting variable and the constraint.  This can take many different forms.  One option is using a variable:"
   ]
  },
  {
   "cell_type": "code",
   "execution_count": 8,
   "metadata": {},
   "outputs": [
    {
     "name": "stdout",
     "output_type": "stream",
     "text": [
      "1\n",
      "4\n",
      "9\n",
      "25\n",
      "36\n",
      "Done for loop\n"
     ]
    }
   ],
   "source": [
    "x = [1, 4, 9, 25, 36]\n",
    "for i in x:\n",
    "   print(i)\n",
    "print(\"Done for loop\")"
   ]
  },
  {
   "cell_type": "markdown",
   "metadata": {},
   "source": [
    "Another option is to use the \"internal\" range function:"
   ]
  },
  {
   "cell_type": "code",
   "execution_count": 10,
   "metadata": {},
   "outputs": [
    {
     "name": "stdout",
     "output_type": "stream",
     "text": [
      "10\n",
      "11\n",
      "12\n",
      "13\n",
      "14\n",
      "15\n",
      "16\n",
      "17\n",
      "18\n",
      "19\n",
      "Done for loop\n"
     ]
    }
   ],
   "source": [
    "for i in range(10,20):\n",
    "   print (i)\n",
    "print(\"Done for loop\")"
   ]
  },
  {
   "cell_type": "markdown",
   "metadata": {},
   "source": [
    "## scripting\n",
    "Now we can start to put things together in a simple script.  Much like Matlab, we simply enter the python commands into a file, then run that file.  Thus far we’ve entered commands one by one into the python interpreter.  A more common way to run python commands is to include them into a file, then “run” that file.  This helps preserve code but also provides efficiencies (e.g., if you make a mistake you don’t have to go back to the start and enter all the commands again).  Typically, python scripts end with the suffix .py.  \n",
    "\n",
    "The first thing to consider when writing scripts is to properly comment the code.  In python this is done with a hash (#), and it can occur anywhere in the line (everything after, and including, the hash sign is ignored by the interpreter).  Multi-line comments can be enabled by starting with three single quotes (‘’’) and then ending the comment block with another three quotes.\n",
    "\n",
    "Here is a straightforward example script to print out 10 successive random numbers.  A random number generator is found in the package called “random”"
   ]
  },
  {
   "cell_type": "code",
   "execution_count": 11,
   "metadata": {},
   "outputs": [
    {
     "name": "stdout",
     "output_type": "stream",
     "text": [
      "0 0.5200759382701445\n",
      "1 0.0777118126395715\n",
      "2 0.6968814146627891\n",
      "3 0.9072459206439124\n",
      "4 0.035828093900657554\n",
      "5 0.8531923918188499\n",
      "6 0.15692684199523854\n",
      "7 0.09121855397596068\n",
      "8 0.04169497655471843\n",
      "9 0.9044800167067006\n"
     ]
    }
   ],
   "source": [
    "#\n",
    "# sample python script that will stream out a set of random numbers\n",
    "# \n",
    "\n",
    "# first we import the \"random\" package, and note to access any modules in this\n",
    "#   package, we preceed the module with the package name (since we do not alias)\n",
    "import random\n",
    "\n",
    "# set the sample size to 10, i.e., we'll generate 10 random numbers\n",
    "sampleSize = 10\n",
    "\n",
    "# set the \"seed\" for our random numbers (seed being a module in random)\n",
    "random.seed()\n",
    "\n",
    "# now we loop over our sample size (aka, sampleSize, aka 10); recall here\n",
    "#   that we'll start at 0 and go to 9, but still get ten interations\n",
    "for i in range(sampleSize):\n",
    "    newValue = random.random()\n",
    "    print (i,newValue)"
   ]
  },
  {
   "cell_type": "markdown",
   "metadata": {},
   "source": [
    "We can now expand our little script to actually read from input the number of numbers to generate, rather than fix it in the script.  For this, we'll use the function input:"
   ]
  },
  {
   "cell_type": "code",
   "execution_count": 13,
   "metadata": {},
   "outputs": [
    {
     "name": "stdout",
     "output_type": "stream",
     "text": [
      "Enter sample size: 3\n"
     ]
    },
    {
     "ename": "TypeError",
     "evalue": "'str' object cannot be interpreted as an integer",
     "output_type": "error",
     "traceback": [
      "\u001b[0;31m---------------------------------------------------------------------------\u001b[0m",
      "\u001b[0;31mTypeError\u001b[0m                                 Traceback (most recent call last)",
      "\u001b[0;32m<ipython-input-13-518c8a3d67c0>\u001b[0m in \u001b[0;36m<module>\u001b[0;34m\u001b[0m\n\u001b[1;32m     15\u001b[0m \u001b[0;31m# now we loop over our sample size (aka, sampleSize, aka 10); recall here\u001b[0m\u001b[0;34m\u001b[0m\u001b[0;34m\u001b[0m\u001b[0;34m\u001b[0m\u001b[0m\n\u001b[1;32m     16\u001b[0m \u001b[0;31m#   that we'll start at 0 and go to 9, but still get ten interations\u001b[0m\u001b[0;34m\u001b[0m\u001b[0;34m\u001b[0m\u001b[0;34m\u001b[0m\u001b[0m\n\u001b[0;32m---> 17\u001b[0;31m \u001b[0;32mfor\u001b[0m \u001b[0mi\u001b[0m \u001b[0;32min\u001b[0m \u001b[0mrange\u001b[0m\u001b[0;34m(\u001b[0m\u001b[0msampleSize\u001b[0m\u001b[0;34m)\u001b[0m\u001b[0;34m:\u001b[0m\u001b[0;34m\u001b[0m\u001b[0;34m\u001b[0m\u001b[0m\n\u001b[0m\u001b[1;32m     18\u001b[0m     \u001b[0mnewValue\u001b[0m \u001b[0;34m=\u001b[0m \u001b[0mrandom\u001b[0m\u001b[0;34m.\u001b[0m\u001b[0mrandom\u001b[0m\u001b[0;34m(\u001b[0m\u001b[0;34m)\u001b[0m\u001b[0;34m\u001b[0m\u001b[0;34m\u001b[0m\u001b[0m\n\u001b[1;32m     19\u001b[0m     \u001b[0mprint\u001b[0m \u001b[0;34m(\u001b[0m\u001b[0mi\u001b[0m\u001b[0;34m,\u001b[0m\u001b[0mnewValue\u001b[0m\u001b[0;34m)\u001b[0m\u001b[0;34m\u001b[0m\u001b[0;34m\u001b[0m\u001b[0m\n",
      "\u001b[0;31mTypeError\u001b[0m: 'str' object cannot be interpreted as an integer"
     ]
    }
   ],
   "source": [
    "#\n",
    "# sample python script that will stream out a set of random numbers\n",
    "# \n",
    "\n",
    "# first we import the \"random\" package, and note to access any modules in this\n",
    "#   package, we preceed the module with the package name (since we do not alias)\n",
    "import random\n",
    "\n",
    "# read sample size from keyboard input\n",
    "sampleSize = input('Enter sample size: ')\n",
    "\n",
    "# set the \"seed\" for our random numbers (seed being a module in random)\n",
    "random.seed()\n",
    "\n",
    "# now we loop over our sample size (aka, sampleSize, aka 10); recall here\n",
    "#   that we'll start at 0 and go to 9, but still get ten interations\n",
    "for i in range(sampleSize):\n",
    "    newValue = random.random()\n",
    "    print (i,newValue)"
   ]
  },
  {
   "cell_type": "markdown",
   "metadata": {},
   "source": [
    "What happened here?  It turns out the standard input, as returned by \"input\" comes back as type str, a string, but we want an integer, so we have to change that:"
   ]
  },
  {
   "cell_type": "code",
   "execution_count": 14,
   "metadata": {},
   "outputs": [
    {
     "name": "stdout",
     "output_type": "stream",
     "text": [
      "Enter sample size: 4\n",
      "0 0.11240458174793\n",
      "1 0.6402720459592337\n",
      "2 0.37248699926998075\n",
      "3 0.28589364609035683\n"
     ]
    }
   ],
   "source": [
    "#\n",
    "# sample python script that will stream out a set of random numbers\n",
    "# \n",
    "\n",
    "# first we import the \"random\" package, and note to access any modules in this\n",
    "#   package, we preceed the module with the package name (since we do not alias)\n",
    "import random\n",
    "\n",
    "# read sample size from keyboard input and then convert it to integer\n",
    "sampleSize = input('Enter sample size: ')\n",
    "sampleSize = int(sampleSize)\n",
    "\n",
    "# set the \"seed\" for our random numbers (seed being a module in random)\n",
    "random.seed()\n",
    "\n",
    "# now we loop over our sample size (aka, sampleSize, aka 10); recall here\n",
    "#   that we'll start at 0 and go to 9, but still get ten interations\n",
    "for i in range(sampleSize):\n",
    "    newValue = random.random()\n",
    "    print (i,newValue)"
   ]
  },
  {
   "cell_type": "markdown",
   "metadata": {},
   "source": [
    "Let's now make this a little more fancy by adding the time.  There are a whole slew of ways to deal with time, but here we'll stick with the package \"time\"."
   ]
  },
  {
   "cell_type": "code",
   "execution_count": 16,
   "metadata": {},
   "outputs": [
    {
     "name": "stdout",
     "output_type": "stream",
     "text": [
      "Enter sample size: 5\n",
      "03/31/20 16:28:07 0.6903706777360855\n",
      "03/31/20 16:28:09 0.1607041819782472\n",
      "03/31/20 16:28:11 0.0865274925493632\n",
      "03/31/20 16:28:13 0.7572593151749628\n",
      "03/31/20 16:28:15 0.6956393981298069\n"
     ]
    }
   ],
   "source": [
    "#\n",
    "# sample python script that will stream out a set of random numbers\n",
    "# \n",
    "\n",
    "# first we import the \"random\" package, and note to access any modules in this\n",
    "#   package, we preceed the module with the package name (since we do not alias)\n",
    "#   and next we import the \"time\" package\n",
    "import random\n",
    "import time\n",
    "\n",
    "# read sample size from keyboard input and then convert it to integer\n",
    "sampleSize = input('Enter sample size: ')\n",
    "sampleSize = int(sampleSize)\n",
    "\n",
    "# set the \"seed\" for our random numbers (seed being a module in random)\n",
    "random.seed()\n",
    "\n",
    "# now we loop over our sample size; we now add the time\n",
    "for i in range(sampleSize):\n",
    "    newValue = random.random()\n",
    "    newValue = random.random()\n",
    "    date = time.strftime(\"%x\")\n",
    "    now  = time.strftime(\"%X\")\n",
    "    print(date, now, newValue)\n",
    "    time.sleep(2)"
   ]
  }
 ],
 "metadata": {
  "kernelspec": {
   "display_name": "Python [conda env:uhm-spring-2020]",
   "language": "python",
   "name": "conda-env-uhm-spring-2020-py"
  },
  "language_info": {
   "codemirror_mode": {
    "name": "ipython",
    "version": 3
   },
   "file_extension": ".py",
   "mimetype": "text/x-python",
   "name": "python",
   "nbconvert_exporter": "python",
   "pygments_lexer": "ipython3",
   "version": "3.7.1"
  }
 },
 "nbformat": 4,
 "nbformat_minor": 2
}
