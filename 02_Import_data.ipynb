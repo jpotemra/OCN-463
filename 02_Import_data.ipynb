{
 "cells": [
  {
   "cell_type": "markdown",
   "metadata": {},
   "source": [
    "# python (cont.'d)"
   ]
  },
  {
   "cell_type": "markdown",
   "metadata": {},
   "source": [
    "## Functions and commands\n",
    "As a quick example, we define a variable X to be a list of numbers:"
   ]
  },
  {
   "cell_type": "code",
   "execution_count": 1,
   "metadata": {},
   "outputs": [],
   "source": [
    "X = [ -10, 5, 1, 2, 7, 4, 6]"
   ]
  },
  {
   "cell_type": "markdown",
   "metadata": {},
   "source": [
    "Remember that all variables are objects, so we can list the attributes of X using X or dir(X). This gives things like “append”, “count”, “extent”, etc.:"
   ]
  },
  {
   "cell_type": "code",
   "execution_count": 2,
   "metadata": {},
   "outputs": [
    {
     "data": {
      "text/plain": [
       "['__add__',\n",
       " '__class__',\n",
       " '__contains__',\n",
       " '__delattr__',\n",
       " '__delitem__',\n",
       " '__dir__',\n",
       " '__doc__',\n",
       " '__eq__',\n",
       " '__format__',\n",
       " '__ge__',\n",
       " '__getattribute__',\n",
       " '__getitem__',\n",
       " '__gt__',\n",
       " '__hash__',\n",
       " '__iadd__',\n",
       " '__imul__',\n",
       " '__init__',\n",
       " '__init_subclass__',\n",
       " '__iter__',\n",
       " '__le__',\n",
       " '__len__',\n",
       " '__lt__',\n",
       " '__mul__',\n",
       " '__ne__',\n",
       " '__new__',\n",
       " '__reduce__',\n",
       " '__reduce_ex__',\n",
       " '__repr__',\n",
       " '__reversed__',\n",
       " '__rmul__',\n",
       " '__setattr__',\n",
       " '__setitem__',\n",
       " '__sizeof__',\n",
       " '__str__',\n",
       " '__subclasshook__',\n",
       " 'append',\n",
       " 'clear',\n",
       " 'copy',\n",
       " 'count',\n",
       " 'extend',\n",
       " 'index',\n",
       " 'insert',\n",
       " 'pop',\n",
       " 'remove',\n",
       " 'reverse',\n",
       " 'sort']"
      ]
     },
     "execution_count": 2,
     "metadata": {},
     "output_type": "execute_result"
    }
   ],
   "source": [
    "dir(X)"
   ]
  },
  {
   "cell_type": "markdown",
   "metadata": {},
   "source": [
    "To then take advantage of one of these, we use the “.” and method name, e.g.:"
   ]
  },
  {
   "cell_type": "code",
   "execution_count": 4,
   "metadata": {},
   "outputs": [
    {
     "name": "stdout",
     "output_type": "stream",
     "text": [
      "[-10, 1, 2, 4, 5, 6, 7]\n"
     ]
    }
   ],
   "source": [
    "X.sort()\n",
    "print(X)"
   ]
  },
  {
   "cell_type": "markdown",
   "metadata": {},
   "source": [
    "Here we have redefined X to have this new order (we could have reassigned it, e.g., Y = X.sort()"
   ]
  },
  {
   "cell_type": "code",
   "execution_count": 5,
   "metadata": {},
   "outputs": [
    {
     "name": "stdout",
     "output_type": "stream",
     "text": [
      "[-10, 1, 2, 4, 5, 6, 7]\n",
      "None\n"
     ]
    }
   ],
   "source": [
    "X = [-10, 5, 1, 2, 7, 4, 6]\n",
    "Y = X.sort()\n",
    "print(X)\n",
    "print(Y)"
   ]
  },
  {
   "cell_type": "markdown",
   "metadata": {},
   "source": [
    "Wait, what?  Looks like X.sort() will first reorder X.  Further, the output is not a list.  How to change this?"
   ]
  },
  {
   "cell_type": "markdown",
   "metadata": {},
   "source": [
    "Attributes can be distinguished from methods using “callable” (as methods are callable functions).\n",
    "\n",
    "Python scripts, typically ending in .py, are called modules. Modules can either be run interactively, e.g., start python and enter the script name, or can be imported by or within other scripts. Similarly, groups of scripts bundled together are termed a “package”. Like modules, packages are imported into python when needed.\n",
    "\n",
    "There are, however, a number of internal functions and modules that come with python (and thus don’t need to be imported). Built-in functions include things like abs (absolute value), print, float, etc. For these, the command can simply be used without importing anything.  (See previous lecture)\n",
    "\n",
    "The process of loading external packages or modules can be done in many different ways. First, the entire package can be loaded. The modules within the package are then accessed using the package name as a prefix and the module name as a suffix. For example, let's say there is a module called \"sample_module\" with a module called \"dothis\":"
   ]
  },
  {
   "cell_type": "markdown",
   "metadata": {},
   "source": [
    "import sample_module \n",
    "x = sample_module.dothis"
   ]
  },
  {
   "cell_type": "markdown",
   "metadata": {},
   "source": [
    "will bind the name “sample_module” to the object that is the “sample_module”.  This does not give you access to any of the names inside the module itself, thus the need for the prefix.  Alternately one could load all the names, e.g.,"
   ]
  },
  {
   "cell_type": "markdown",
   "metadata": {},
   "source": [
    "from sample_module import *\n",
    "x = dothis"
   ]
  },
  {
   "cell_type": "markdown",
   "metadata": {},
   "source": [
    "This is usually not advisable since it may overwrite existing variable names.  Specific ones may be access through this same syntax however.  For example, to get the variable pi from the module numpy, one could import and access as numpy.pi.  Alternately, the function can be directly loaded from the module using the additional qualifier “from” like the above:"
   ]
  },
  {
   "cell_type": "markdown",
   "metadata": {},
   "source": [
    "from sample_module import dothis\n",
    "x = dothis"
   ]
  },
  {
   "cell_type": "markdown",
   "metadata": {},
   "source": [
    "The module may also be assigned a shorthand (alias) name to make things a little easier.  This shorthand name is specified using “as” and is then used in place of the full name:"
   ]
  },
  {
   "cell_type": "code",
   "execution_count": 10,
   "metadata": {},
   "outputs": [
    {
     "name": "stdout",
     "output_type": "stream",
     "text": [
      "1.2246467991473532e-16\n"
     ]
    }
   ],
   "source": [
    "import numpy as np\n",
    "x = np.sin(np.pi)\n",
    "print(x)"
   ]
  },
  {
   "cell_type": "markdown",
   "metadata": {},
   "source": [
    "To summarize with an example, here are four different ways of accessing the plotting function (plot) from the matplotlib package, which is in the pyplot set of routines (subpackage):"
   ]
  },
  {
   "cell_type": "markdown",
   "metadata": {},
   "source": [
    "a) import entire package\n",
    "\n",
    "import matplotlib\n",
    "matplotlib.pyplot.plot(x,y)\n",
    "\n",
    "b) import single subpackage\n",
    "\n",
    "from matplotlib import pyplot\n",
    "pyplot.plot(x,y)\n",
    "\n",
    "c) import subpackage as alias\n",
    "\n",
    "from matplotlib import pyplot as plt\n",
    "plt.plot(x,y)\n",
    "\n",
    "from matplotlib.pyplot import plot as plt\n",
    "plt(x,y)\n"
   ]
  },
  {
   "cell_type": "markdown",
   "metadata": {},
   "source": [
    "Some of the more useful modules that we will use include sys that has system-level functions like exit, matplotlib, numpy and scipy that allow for matlab like functions, pandas for reading data from files, and a few more.  To find out what is available in a particular module, first import it then use dir.  For example, \n",
    "\n",
    "Finally, it is possible to import local python scripts.  For example, if you have your own utility in a python script called “my_sort.py”, you can import it as\n",
    "\n",
    "import my_sort\n",
    "\n",
    "Or, if it is in a different directory, use period (.) instead of slash (/) to demarcate directories.  For example, if you keep your scripts in a subdirectory called “my_libs” and then another subdirectory called “system”, you can import as\n",
    "\n",
    "import my_libs.system.my_sort\n",
    "\n",
    "Note that this only works on paths under the current working directory.  A better way would be to update the path within the main script (e.g., using importlib.lib)."
   ]
  }
 ],
 "metadata": {
  "kernelspec": {
   "display_name": "Python 3",
   "language": "python",
   "name": "python3"
  },
  "language_info": {
   "codemirror_mode": {
    "name": "ipython",
    "version": 3
   },
   "file_extension": ".py",
   "mimetype": "text/x-python",
   "name": "python",
   "nbconvert_exporter": "python",
   "pygments_lexer": "ipython3",
   "version": "3.7.1"
  }
 },
 "nbformat": 4,
 "nbformat_minor": 2
}
